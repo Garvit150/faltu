{
  "nbformat": 4,
  "nbformat_minor": 0,
  "metadata": {
    "colab": {
      "provenance": [],
      "authorship_tag": "ABX9TyPlFmlkQiSKDEyzFtjK+iLL",
      "include_colab_link": true
    },
    "kernelspec": {
      "name": "python3",
      "display_name": "Python 3"
    },
    "language_info": {
      "name": "python"
    }
  },
  "cells": [
    {
      "cell_type": "markdown",
      "metadata": {
        "id": "view-in-github",
        "colab_type": "text"
      },
      "source": [
        "<a href=\"https://colab.research.google.com/github/Garvit150/faltu/blob/main/Untitled1.ipynb\" target=\"_parent\"><img src=\"https://colab.research.google.com/assets/colab-badge.svg\" alt=\"Open In Colab\"/></a>"
      ]
    },
    {
      "cell_type": "code",
      "execution_count": null,
      "metadata": {
        "colab": {
          "base_uri": "https://localhost:8080/"
        },
        "id": "BJoqYclWtAx4",
        "outputId": "4f915ac6-25dd-43f1-d042-f89953735ca9"
      },
      "outputs": [
        {
          "output_type": "stream",
          "name": "stdout",
          "text": [
            "Guess a number between 1 and 100: 43\n",
            "Too high! Try again.\n",
            "Guess a number between 1 and 100: 2\n",
            "Too low! Try again.\n",
            "Guess a number between 1 and 100: 10\n",
            "Too low! Try again.\n",
            "Guess a number between 1 and 100: 20\n",
            "Too low! Try again.\n",
            "Guess a number between 1 and 100: 40\n",
            "Too high! Try again.\n",
            "Guess a number between 1 and 100: 30\n",
            "Too high! Try again.\n",
            "Guess a number between 1 and 100: 26\n",
            "Too low! Try again.\n",
            "Guess a number between 1 and 100: 27\n",
            "Too low! Try again.\n",
            "Guess a number between 1 and 100: 28\n",
            "Congratulations! You guessed the correct number.\n"
          ]
        }
      ],
      "source": [
        "import random\n",
        "\n",
        "number_to_guess = random.randint(1, 100)\n",
        "\n",
        "user_guess = None\n",
        "\n",
        "while user_guess != number_to_guess:\n",
        "    user_guess = int(input(\"Guess a number between 1 and 100: \"))\n",
        "\n",
        "\n",
        "    if user_guess < number_to_guess:\n",
        "        print(\"Too low! Try again.\")\n",
        "    elif user_guess > number_to_guess:\n",
        "        print(\"Too high! Try again.\")\n",
        "    else:\n",
        "        print(\"Congratulations! You guessed the correct number.\")\n",
        "        break\n"
      ]
    },
    {
      "cell_type": "code",
      "source": [],
      "metadata": {
        "id": "-nVnS6MbyqJ2"
      },
      "execution_count": null,
      "outputs": []
    },
    {
      "cell_type": "code",
      "source": [],
      "metadata": {
        "id": "ibjgJuo2yq8i"
      },
      "execution_count": null,
      "outputs": []
    },
    {
      "cell_type": "markdown",
      "source": [],
      "metadata": {
        "id": "0gCq3C4cyrok"
      }
    }
  ]
}